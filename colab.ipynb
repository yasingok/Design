{
  "nbformat": 4,
  "nbformat_minor": 0,
  "metadata": {
    "colab": {
      "name": "colab.ipynb",
      "provenance": [],
      "collapsed_sections": [],
      "authorship_tag": "ABX9TyNseA+qGox/sxWg8+Kz8n7b",
      "include_colab_link": true
    },
    "kernelspec": {
      "name": "python3",
      "display_name": "Python 3"
    },
    "accelerator": "TPU"
  },
  "cells": [
    {
      "cell_type": "markdown",
      "metadata": {
        "id": "view-in-github",
        "colab_type": "text"
      },
      "source": [
        "<a href=\"https://colab.research.google.com/github/yasingok/Design/blob/master/colab.ipynb\" target=\"_parent\"><img src=\"https://colab.research.google.com/assets/colab-badge.svg\" alt=\"Open In Colab\"/></a>"
      ]
    },
    {
      "cell_type": "code",
      "metadata": {
        "id": "mF8LKBGbRn4N",
        "colab_type": "code",
        "colab": {}
      },
      "source": [
        "from google.colab import drive\n",
        "drive.mount('/content/drive')"
      ],
      "execution_count": null,
      "outputs": []
    },
    {
      "cell_type": "code",
      "metadata": {
        "id": "PH6j33pDVDLs",
        "colab_type": "code",
        "colab": {}
      },
      "source": [
        "\n",
        "import os\n",
        "os.chdir('/content/drive/My Drive/')\n"
      ],
      "execution_count": null,
      "outputs": []
    },
    {
      "cell_type": "code",
      "metadata": {
        "id": "-y-gOwnVWEBW",
        "colab_type": "code",
        "colab": {}
      },
      "source": [
        "import json\n",
        "import pandas as pd\n",
        "import numpy as np\n",
        "import re\n",
        "import nltk\n",
        "from nltk.corpus import stopwords\n",
        "from numpy import array\n",
        "from keras.preprocessing.text import one_hot\n",
        "from keras.preprocessing.sequence import pad_sequences\n",
        "from keras.models import Sequential\n",
        "from keras.layers.core import Activation, Dropout, Dense\n",
        "from keras.layers import Flatten\n",
        "from keras.layers import GlobalMaxPooling1D\n",
        "from keras.layers.embeddings import Embedding\n",
        "from sklearn.model_selection import train_test_split\n",
        "from keras.preprocessing.text import Tokenizer"
      ],
      "execution_count": null,
      "outputs": []
    },
    {
      "cell_type": "code",
      "metadata": {
        "id": "HZDTYJrVVDhP",
        "colab_type": "code",
        "colab": {}
      },
      "source": [
        "with open('Colab Notebooks/siparis.json','r') as f:\n",
        "    data = json.load(f)"
      ],
      "execution_count": null,
      "outputs": []
    },
    {
      "cell_type": "code",
      "metadata": {
        "id": "0DpjxCrSSwAz",
        "colab_type": "code",
        "colab": {
          "base_uri": "https://localhost:8080/",
          "height": 34
        },
        "outputId": "53c8e34c-6b35-408c-b67e-6b093b0cdf79"
      },
      "source": [
        "df = pd.DataFrame(data,columns = ['Comment','Brand','Sector'])\n",
        "len(df)"
      ],
      "execution_count": null,
      "outputs": [
        {
          "output_type": "execute_result",
          "data": {
            "text/plain": [
              "98342"
            ]
          },
          "metadata": {
            "tags": []
          },
          "execution_count": 57
        }
      ]
    },
    {
      "cell_type": "code",
      "metadata": {
        "id": "FVb3j1VASvp9",
        "colab_type": "code",
        "colab": {}
      },
      "source": [
        "filter = df[\"Comment\"] != \"\""
      ],
      "execution_count": null,
      "outputs": []
    },
    {
      "cell_type": "code",
      "metadata": {
        "id": "TaFUttxnSwQ7",
        "colab_type": "code",
        "colab": {}
      },
      "source": [
        "filter.value_counts()"
      ],
      "execution_count": null,
      "outputs": []
    },
    {
      "cell_type": "code",
      "metadata": {
        "id": "LsSNrZoziYsL",
        "colab_type": "code",
        "colab": {
          "base_uri": "https://localhost:8080/",
          "height": 34
        },
        "outputId": "f32e4fff-6813-4b39-9e9e-dd84412d8953"
      },
      "source": [
        "df = df[filter]\n",
        "len(df)"
      ],
      "execution_count": null,
      "outputs": [
        {
          "output_type": "execute_result",
          "data": {
            "text/plain": [
              "98342"
            ]
          },
          "metadata": {
            "tags": []
          },
          "execution_count": 62
        }
      ]
    },
    {
      "cell_type": "code",
      "metadata": {
        "id": "8CREG656iY4W",
        "colab_type": "code",
        "colab": {
          "base_uri": "https://localhost:8080/",
          "height": 34
        },
        "outputId": "eddf4012-16aa-457e-8e05-cdfb4045687d"
      },
      "source": [
        "df = df.dropna() \n",
        "len(df)"
      ],
      "execution_count": null,
      "outputs": [
        {
          "output_type": "execute_result",
          "data": {
            "text/plain": [
              "98342"
            ]
          },
          "metadata": {
            "tags": []
          },
          "execution_count": 63
        }
      ]
    },
    {
      "cell_type": "markdown",
      "metadata": {
        "id": "xp_Av-Y_izW-",
        "colab_type": "text"
      },
      "source": [
        "Konu Basliklari\n"
      ]
    },
    {
      "cell_type": "code",
      "metadata": {
        "id": "jxX-hl20iZAe",
        "colab_type": "code",
        "colab": {
          "base_uri": "https://localhost:8080/",
          "height": 221
        },
        "outputId": "c6106aac-4cca-4ca0-fec5-df64ec470f14"
      },
      "source": [
        "print(df.Brand.value_counts())\n",
        "a = df.Brand.value_counts()"
      ],
      "execution_count": null,
      "outputs": [
        {
          "output_type": "stream",
          "text": [
            "Sürat Kargo                  7632\n",
            "Boyner                       5556\n",
            "Çiçek Sepeti                 5123\n",
            "Aras Kargo                   4297\n",
            "MNG Kargo                    3621\n",
            "                             ... \n",
            "Solingen                        1\n",
            "Mobile Teknik                   1\n",
            "Ceptematbaa                     1\n",
            "Çanta Sayfası (İnstagram)       1\n",
            "Globalwhiteofficial.com         1\n",
            "Name: Brand, Length: 3813, dtype: int64\n"
          ],
          "name": "stdout"
        }
      ]
    },
    {
      "cell_type": "code",
      "metadata": {
        "id": "3yiw_9DPiZDM",
        "colab_type": "code",
        "colab": {}
      },
      "source": [
        "df[\"Sector\"] = df.Brand.map(lambda sentences: None )"
      ],
      "execution_count": null,
      "outputs": []
    },
    {
      "cell_type": "code",
      "metadata": {
        "id": "q-h6uXSgiZFy",
        "colab_type": "code",
        "colab": {}
      },
      "source": [
        "taşıma_list = [\"Aras Kargo\",\"Sürat Kargo\",\"MNG Kargo\",\"Horoz Lojistik\",\"Trendyol Express\",\"UPS Türkiye\",\"hepsiJET\",\"Getir\"]\n",
        "for i in taşıma_list:\n",
        "    df.Sector[df.Brand == i ] = \"Taşıma\""
      ],
      "execution_count": null,
      "outputs": []
    },
    {
      "cell_type": "code",
      "metadata": {
        "id": "2_6pkEgmiZIa",
        "colab_type": "code",
        "colab": {}
      },
      "source": [
        "giyim_list = [\"Penti\",\"Boyner\",\"DeFacto\",\"Gratis\", \"LC Waikiki\",\"FLO Ayakkabı\",\"Bershka\"]\n",
        "for i in giyim_list:\n",
        "    df.Sector[df.Brand == i ] = \"Giyim\""
      ],
      "execution_count": null,
      "outputs": []
    },
    {
      "cell_type": "code",
      "metadata": {
        "id": "9GNofZxIiZLN",
        "colab_type": "code",
        "colab": {}
      },
      "source": [
        "yemek_list = [\"Yemek Sepeti\",\"Domino's Pizza\",\"Protein Market\"]\n",
        "for i in yemek_list:\n",
        "    df.Sector[df.Brand == i ] = \"Yemek\""
      ],
      "execution_count": null,
      "outputs": []
    },
    {
      "cell_type": "code",
      "metadata": {
        "id": "oDzw-SY7iZNu",
        "colab_type": "code",
        "colab": {}
      },
      "source": [
        "teknoloji_list = [\"Media Markt\"]\n",
        "for i in teknoloji_list:\n",
        "    df.Sector[df.Brand == i ] = \"Teknoloji\""
      ],
      "execution_count": null,
      "outputs": []
    },
    {
      "cell_type": "code",
      "metadata": {
        "id": "JAeLKbiriZQn",
        "colab_type": "code",
        "colab": {}
      },
      "source": [
        "ev_esyasi_list = [\"Evform\",\"Tekzen\",\"IKEA\"]\n",
        "for i in ev_esyasi_list:\n",
        "    df.Sector[df.Brand == i ] = \"EvEsyasi\""
      ],
      "execution_count": null,
      "outputs": []
    },
    {
      "cell_type": "code",
      "metadata": {
        "id": "eG2XDL2AkLKm",
        "colab_type": "code",
        "colab": {}
      },
      "source": [
        "kitap_list = [\"Kitap Seç\",\"Bkm Kitap\",\"D&R\"]\n",
        "for i in kitap_list:\n",
        "    df.Sector[df.Brand == i ] = \"Kitap\""
      ],
      "execution_count": null,
      "outputs": []
    },
    {
      "cell_type": "code",
      "metadata": {
        "id": "VN8D-qBvkLNn",
        "colab_type": "code",
        "colab": {}
      },
      "source": [
        "ticaret_sitesi_list = [\"Çiçek Sepeti\",\"N11\"]\n",
        "for i in ticaret_sitesi_list:\n",
        "    df.Sector[df.Brand == i ] = \"ETicaret\""
      ],
      "execution_count": null,
      "outputs": []
    },
    {
      "cell_type": "code",
      "metadata": {
        "id": "x121YJbqkLQr",
        "colab_type": "code",
        "colab": {
          "base_uri": "https://localhost:8080/",
          "height": 51
        },
        "outputId": "ae107f7e-b9f8-4083-b859-64db9d07b511"
      },
      "source": [
        "filter = df[\"Sector\"] != \"\"\n",
        "filter.value_counts()"
      ],
      "execution_count": null,
      "outputs": [
        {
          "output_type": "execute_result",
          "data": {
            "text/plain": [
              "True    98342\n",
              "Name: Sector, dtype: int64"
            ]
          },
          "metadata": {
            "tags": []
          },
          "execution_count": 79
        }
      ]
    },
    {
      "cell_type": "code",
      "metadata": {
        "id": "pbDZ4IqmkLTa",
        "colab_type": "code",
        "colab": {
          "base_uri": "https://localhost:8080/",
          "height": 34
        },
        "outputId": "2e797bbc-27cb-45e6-8fc5-24c30873d758"
      },
      "source": [
        "df = df[filter]\n",
        "len(df)"
      ],
      "execution_count": null,
      "outputs": [
        {
          "output_type": "execute_result",
          "data": {
            "text/plain": [
              "98342"
            ]
          },
          "metadata": {
            "tags": []
          },
          "execution_count": 80
        }
      ]
    },
    {
      "cell_type": "code",
      "metadata": {
        "id": "wWw2Mn1OkLWR",
        "colab_type": "code",
        "colab": {
          "base_uri": "https://localhost:8080/",
          "height": 153
        },
        "outputId": "24b6ce9e-e88a-4ec7-fa45-92e56b95edb2"
      },
      "source": [
        "df1 = df.dropna()\n",
        "df1.Sector.value_counts()"
      ],
      "execution_count": null,
      "outputs": [
        {
          "output_type": "execute_result",
          "data": {
            "text/plain": [
              "Taşıma       22101\n",
              "Giyim        14658\n",
              "ETicaret      7583\n",
              "Yemek         2477\n",
              "Kitap         2475\n",
              "EvEsyasi      2297\n",
              "Teknoloji      646\n",
              "Name: Sector, dtype: int64"
            ]
          },
          "metadata": {
            "tags": []
          },
          "execution_count": 81
        }
      ]
    },
    {
      "cell_type": "markdown",
      "metadata": {
        "id": "8qX2z9ItkafH",
        "colab_type": "text"
      },
      "source": [
        "Alt Konu Basliklari¶\n"
      ]
    },
    {
      "cell_type": "code",
      "metadata": {
        "id": "fiZSHYA8kLbr",
        "colab_type": "code",
        "colab": {}
      },
      "source": [
        "konu_list = [\"Giyim\",\"Taşıma\",\"Yemek\",\"Teknoloji\",\"Ev Eşyası\",\"Kitap\"]\n",
        "data_kitap = df1.Comment[df.Sector == \"Kitap\"]\n",
        "data_giyim = df1.Comment[df.Sector == \"Giyim\"]\n",
        "data_tasıma = df1.Comment[df.Sector == \"Taşıma\"]\n",
        "data_yemek = df1.Comment[df.Sector == \"Yemek\"]\n",
        "data_teknoloji = df1.Comment[df.Sector == \"Teknoloji\"]\n",
        "data_esya = df1.Comment[df.Sector == \"EvEsyasi\"]"
      ],
      "execution_count": null,
      "outputs": []
    },
    {
      "cell_type": "code",
      "metadata": {
        "id": "OQXlP9RHkqGT",
        "colab_type": "code",
        "colab": {
          "base_uri": "https://localhost:8080/",
          "height": 119
        },
        "outputId": "00090309-6a9c-424a-c64a-0ce5f417a543"
      },
      "source": [
        "print(\"Kitap  =>\",len(data_kitap)) \n",
        "print(\"Giyim  =>\",len(data_giyim)) \n",
        "print(\"Tasima =>\",len(data_tasıma))  \n",
        "print(\"Yemek =>\",len(data_yemek))  \n",
        "print(\"Teknoloji =>\",len(data_teknoloji))  \n",
        "print(\"Esya =>\",len(data_esya))"
      ],
      "execution_count": null,
      "outputs": [
        {
          "output_type": "stream",
          "text": [
            "Kitap  => 2475\n",
            "Giyim  => 14658\n",
            "Tasima => 22101\n",
            "Yemek => 2477\n",
            "Teknoloji => 646\n",
            "Esya => 2297\n"
          ],
          "name": "stdout"
        }
      ]
    },
    {
      "cell_type": "code",
      "metadata": {
        "id": "47s5HUf0kqS1",
        "colab_type": "code",
        "colab": {}
      },
      "source": [
        "def word_tokenize(sentence):\n",
        "    acronym_each_dot = r\"(?:[a-zğçşöüı]\\.){2,}\"\n",
        "    acronym_end_dot = r\"\\b[a-zğçşöüı]{2,3}\\.\"\n",
        "    suffixes = r\"[a-zğçşöüı]{3,}' ?[a-zğçşöüı]{0,3}\"\n",
        "    numbers = r\"\\d+[.,:\\d]+\"\n",
        "    any_word = r\"[a-zğçşöüı]+\"\n",
        "    punctuations = r\"[a-zğçşöüı]*[.,!?;:]\"\n",
        "    word_regex = \"|\".join([acronym_each_dot,acronym_end_dot,suffixes,numbers,any_word,punctuations])\n",
        "    sentence = re.compile(\"%s\"%word_regex, re.I).findall(sentence)\n",
        "    return sentence"
      ],
      "execution_count": null,
      "outputs": []
    },
    {
      "cell_type": "code",
      "metadata": {
        "id": "qYUzfl5ukqV3",
        "colab_type": "code",
        "colab": {}
      },
      "source": [
        "def initial_clean(text):\n",
        "    #text = re.sub(\"[^a-zA-Z ]\", \"\", text)\n",
        "    text = text.lower() # lower case text\n",
        "    #print(text)\n",
        "    text = nltk.word_tokenize(text)\n",
        "    return text"
      ],
      "execution_count": null,
      "outputs": []
    },
    {
      "cell_type": "code",
      "metadata": {
        "id": "XMveq-1ZkqY_",
        "colab_type": "code",
        "colab": {
          "base_uri": "https://localhost:8080/",
          "height": 34
        },
        "outputId": "3762ca8d-b940-477a-8c54-bd1f20d35b45"
      },
      "source": [
        "initial_clean('verdiğim')\n"
      ],
      "execution_count": null,
      "outputs": [
        {
          "output_type": "execute_result",
          "data": {
            "text/plain": [
              "['verdiğim']"
            ]
          },
          "metadata": {
            "tags": []
          },
          "execution_count": 98
        }
      ]
    },
    {
      "cell_type": "code",
      "metadata": {
        "id": "xjFXMDTIFtI5",
        "colab_type": "code",
        "colab": {}
      },
      "source": [
        "#!/usr/bin/env python\n",
        "import re\n",
        "\n",
        "def deEmoji(text):\n",
        "\n",
        "    emoji_pattern = re.compile(\"[\"\n",
        "          u\"\\U0001F600-\\U0001F64F\"  # emoticons\n",
        "          u\"\\U0001F300-\\U0001F5FF\"  # symbols & pictographs\n",
        "          u\"\\U0001F680-\\U0001F6FF\"  # transport & map symbols\n",
        "          u\"\\U0001F1E0-\\U0001F1FF\"  # flags (iOS)\n",
        "                            \"]+\", flags=re.UNICODE)\n",
        "    return str(emoji_pattern.sub('', text) )# no emoji"
      ],
      "execution_count": null,
      "outputs": []
    },
    {
      "cell_type": "code",
      "metadata": {
        "id": "XEhmf5WLFtTM",
        "colab_type": "code",
        "colab": {
          "base_uri": "https://localhost:8080/",
          "height": 34
        },
        "outputId": "fd7dc5ff-412b-4247-bd3c-2ecd8a460407"
      },
      "source": [
        "\n",
        "text = \"Son aldığım ürün henüz elime ulaşmadı\"\n",
        "initial_clean(text)\n",
        "['son', 'aldığım', 'ürün', 'henüz', 'elime', 'ulaşmadı']"
      ],
      "execution_count": null,
      "outputs": [
        {
          "output_type": "execute_result",
          "data": {
            "text/plain": [
              "['son', 'aldığım', 'ürün', 'henüz', 'elime', 'ulaşmadı']"
            ]
          },
          "metadata": {
            "tags": []
          },
          "execution_count": 101
        }
      ]
    },
    {
      "cell_type": "code",
      "metadata": {
        "id": "VhDPRaZPFtWL",
        "colab_type": "code",
        "colab": {}
      },
      "source": [
        "#Türkçe için stopwords listesi\n",
        "with open('Colab Notebooks/turkce-stop-words', 'r') as f:\n",
        "    myList = [line.strip() for line in f]"
      ],
      "execution_count": null,
      "outputs": []
    },
    {
      "cell_type": "code",
      "metadata": {
        "id": "L3xPQ-SpFtZY",
        "colab_type": "code",
        "colab": {}
      },
      "source": [
        "def remove_stop_words(text):\n",
        "    stop_words = myList \n",
        "    return [word for word in text if word not in stop_words]"
      ],
      "execution_count": null,
      "outputs": []
    },
    {
      "cell_type": "code",
      "metadata": {
        "id": "p6WOxgmnIqhY",
        "colab_type": "code",
        "colab": {}
      },
      "source": [
        "def apply_all(text):\n",
        "    return remove_stop_words(initial_clean(deEmoji(text)))"
      ],
      "execution_count": null,
      "outputs": []
    },
    {
      "cell_type": "code",
      "metadata": {
        "id": "csdUpaoXIqnI",
        "colab_type": "code",
        "colab": {
          "base_uri": "https://localhost:8080/",
          "height": 34
        },
        "outputId": "f4bc475c-e471-4173-c34b-9e50fa7a29d8"
      },
      "source": [
        "import time\n",
        "t1 = time.time()\n",
        "data_yemek_clean= data_yemek.apply(apply_all) #kirli veri seti ->>>> normalize edilmiş veri seti\n",
        "t2 = time.time()\n",
        "print(\"prerocess ve tokenize için geçen süre\", len(data_yemek), \"texts:\", (t2-t1)/60, \"min\")"
      ],
      "execution_count": null,
      "outputs": [
        {
          "output_type": "stream",
          "text": [
            "prerocess ve tokenize için geçen süre 2477 texts: 0.04431975285212199 min\n"
          ],
          "name": "stdout"
        }
      ]
    },
    {
      "cell_type": "code",
      "metadata": {
        "id": "8gRsr4UhIqph",
        "colab_type": "code",
        "colab": {}
      },
      "source": [
        "data_yemek_clean = data_yemek_clean.map(lambda values: ' '.join([str(elem) for elem in values]) )\n"
      ],
      "execution_count": null,
      "outputs": []
    },
    {
      "cell_type": "code",
      "metadata": {
        "id": "j7AmpFwfIqsh",
        "colab_type": "code",
        "colab": {}
      },
      "source": [
        "# Bu satirdan once asagidaki Normalization satirlarini calistir\n",
        "data_yemek_clean = data_yemek_clean.map(lambda values: Zemberek_lemmatization(values) )"
      ],
      "execution_count": null,
      "outputs": []
    },
    {
      "cell_type": "code",
      "metadata": {
        "id": "BRjIuTd3IqvR",
        "colab_type": "code",
        "colab": {
          "base_uri": "https://localhost:8080/",
          "height": 34
        },
        "outputId": "b29d6010-1cc9-4953-8c27-541f7fe524f9"
      },
      "source": [
        "len(data_yemek_clean)\n"
      ],
      "execution_count": null,
      "outputs": [
        {
          "output_type": "execute_result",
          "data": {
            "text/plain": [
              "2477"
            ]
          },
          "metadata": {
            "tags": []
          },
          "execution_count": 121
        }
      ]
    },
    {
      "cell_type": "markdown",
      "metadata": {
        "id": "BZH3wNruI4oR",
        "colab_type": "text"
      },
      "source": [
        "Normalization"
      ]
    },
    {
      "cell_type": "code",
      "metadata": {
        "id": "sqkt3STeIqx9",
        "colab_type": "code",
        "colab": {}
      },
      "source": [
        "#https://medium.com/@melikebektas95/zemberek-k%C3%BCt%C3%BCphanesi-ile-t%C3%BCrk%C3%A7e-metinlerde-kelime-k%C3%B6klerinin-bulunmas%C4%B1-6ddd3a875d5f\n",
        "from typing import List\n",
        "from jpype import JClass, JString, getDefaultJVMPath, shutdownJVM, startJVM, java"
      ],
      "execution_count": null,
      "outputs": []
    },
    {
      "cell_type": "code",
      "metadata": {
        "id": "uzKzAXr4Iq0f",
        "colab_type": "code",
        "colab": {}
      },
      "source": [
        "ZEMBEREK_PATH = r'Colab Notebooks/zemberek-full.jar'\n",
        "startJVM(getDefaultJVMPath(), '-ea', '-Djava.class.path=%s' % (ZEMBEREK_PATH))"
      ],
      "execution_count": null,
      "outputs": []
    },
    {
      "cell_type": "code",
      "metadata": {
        "id": "VRdnNimyIq4w",
        "colab_type": "code",
        "colab": {}
      },
      "source": [
        "\n",
        "TurkishMorphology = JClass('zemberek.morphology.TurkishMorphology')\n",
        "morphology = TurkishMorphology.createWithDefaults()"
      ],
      "execution_count": null,
      "outputs": []
    },
    {
      "cell_type": "code",
      "metadata": {
        "id": "45xSDDI-Iq7k",
        "colab_type": "code",
        "colab": {}
      },
      "source": [
        "\n",
        "kelimeler = 'arabacı ilişkilendiremediklerimiz gözlük gözlem'\n",
        "def Zemberek_lemmatization(text):\n",
        "    analysis: java.util.ArrayList = (\n",
        "        morphology.analyzeAndDisambiguate(text).bestAnalysis()\n",
        "        )\n",
        "    #pos: List[str] = []\n",
        "    stemma: List[str] = []\n",
        "\n",
        "    for i, analysis in enumerate(analysis, start=1):\n",
        "        f'\\nAnalysis {i}: {analysis}',\n",
        "        f'\\nPrimary POS {i}: {analysis.getPos()}'\n",
        "        f'\\nPrimary POS (Short Form) {i}: {analysis.getPos().shortForm}'\n",
        "\n",
        "        #pos.append( f'{str(analysis.getLemmas()[0])}')\n",
        "        stemma.append(f'{str(analysis.getStems()[0])}')\n",
        "    #print(f'\\n Kelime Kökleri: {\" \".join(pos)}')\n",
        "    #print(f'\\n Kelime Kökleri: {\" \".join(stemma)}')\n",
        "    return \" \".join(stemma)"
      ],
      "execution_count": null,
      "outputs": []
    },
    {
      "cell_type": "markdown",
      "metadata": {
        "id": "itiYbE4WL8X9",
        "colab_type": "text"
      },
      "source": [
        "LDA"
      ]
    },
    {
      "cell_type": "code",
      "metadata": {
        "id": "EEAnivCSL6m5",
        "colab_type": "code",
        "colab": {}
      },
      "source": [
        "\n",
        "from sklearn.feature_extraction.text import CountVectorizer\n",
        "stop_words = open('Colab Notebooks/turkce-stop-words', 'r',encoding ='utf-8').read().split()\n",
        "cv = CountVectorizer(max_df=0.5,min_df=5, stop_words=stop_words)\n",
        "dtm  = cv.fit_transform(data_yemek_clean)"
      ],
      "execution_count": null,
      "outputs": []
    },
    {
      "cell_type": "code",
      "metadata": {
        "id": "lDfXQS2lL6rt",
        "colab_type": "code",
        "colab": {
          "base_uri": "https://localhost:8080/",
          "height": 105
        },
        "outputId": "5ed76f97-9f8f-4901-d6d4-239013e50138"
      },
      "source": [
        "\n",
        "from sklearn.decomposition import LatentDirichletAllocation\n",
        "lda = LatentDirichletAllocation(n_components=1,random_state=None)\n",
        "\n",
        "lda_fit  = lda.fit(dtm)\n",
        "\n",
        "# understanding each topics top 10 common words  \n",
        "for id_value, value in enumerate(lda_fit.components_):\n",
        "    print(f\"The topic would be {id_value}\") \n",
        "    print([cv.get_feature_names()[index] for index in value.argsort()   [-50:]])\n",
        "    print(\"\\n\")"
      ],
      "execution_count": null,
      "outputs": [
        {
          "output_type": "stream",
          "text": [
            "The topic would be 0\n",
            "['10', 'geri', 'çık', 'çalış', 'getir', 'ücret', 'kullan', 'iş', 'numara', 'zaman', '30', 'hizmet', 'ulaş', 'kargo', 'restoran', 'telefon', 'bekle', 'üzeri', 'yaz', 'tl', 'di', 'tarih', 'firma', '2020', 'iste', 'gönder', 'domino', 'şikayet', 'geç', 'müşteri', 'öde', 'ürün', 'yok', 'dakika', 'iade', 'gün', 'söyle', 'saat', 'şube', 'iptal', 'et', 'al', 'pizza', 'para', 'sepet', 'ara', 'ed', 'ol', 'yemek', 'yap']\n",
            "\n",
            "\n"
          ],
          "name": "stdout"
        }
      ]
    },
    {
      "cell_type": "code",
      "metadata": {
        "id": "WpDfL8dcL6zZ",
        "colab_type": "code",
        "colab": {}
      },
      "source": [
        "# fiyat islem kazan talep kotu menu koy yorum indirim kampanya yogun hata kurye kart\n",
        "#ucret numara restoran telefon tl   ode iade dakika sube gun iptal para"
      ],
      "execution_count": null,
      "outputs": []
    },
    {
      "cell_type": "code",
      "metadata": {
        "id": "7JmdpUfwL64T",
        "colab_type": "code",
        "colab": {
          "base_uri": "https://localhost:8080/",
          "height": 34
        },
        "outputId": "49249402-3d6a-40b5-df03-c889732bfae7"
      },
      "source": [
        "word_list: List[str] = []\n",
        "count = 0\n",
        "for i in data_yemek:\n",
        "    if ' para' in i:\n",
        "        word_list.append(i)\n",
        "        #print(i+\"\\n===============================================\")\n",
        "        count = count+1\n",
        "print(\"Count = \", count)"
      ],
      "execution_count": null,
      "outputs": [
        {
          "output_type": "stream",
          "text": [
            "Count =  776\n"
          ],
          "name": "stdout"
        }
      ]
    },
    {
      "cell_type": "code",
      "metadata": {
        "id": "lxibBkVzL66-",
        "colab_type": "code",
        "colab": {
          "base_uri": "https://localhost:8080/",
          "height": 34
        },
        "outputId": "4eb35738-8078-4b69-eb44-46ea75bdadd9"
      },
      "source": [
        "df_model = pd.DataFrame(df1,columns = [\"Comment\",\"Brand\",\"Sector\",\"Zamaninda Teslimat\",\"Ödeme\",\"Müşteri Hizmetleri\",\"Kampanya\",\"Doğru Sipariş\",\"İade\",\"Ürün Memnuniyeti\"])\n",
        "\n",
        "\n",
        "len(df_model)"
      ],
      "execution_count": null,
      "outputs": [
        {
          "output_type": "execute_result",
          "data": {
            "text/plain": [
              "52237"
            ]
          },
          "metadata": {
            "tags": []
          },
          "execution_count": 130
        }
      ]
    },
    {
      "cell_type": "code",
      "metadata": {
        "id": "WeM46aaRL69o",
        "colab_type": "code",
        "colab": {}
      },
      "source": [
        "konu_list = [\"Zamaninda Teslimat\",\"Ödeme\",\"Müşteri Hizmetleri\",\"Kampanya\",\"Doğru Sipariş\",\"İade\",\"Ürün Memnuniyeti\"]\n"
      ],
      "execution_count": null,
      "outputs": []
    },
    {
      "cell_type": "code",
      "metadata": {
        "id": "zvfbSl_UL7By",
        "colab_type": "code",
        "colab": {}
      },
      "source": [
        "for i in konu_list:\n",
        "    df_model[i] = df_model[i].map(lambda a: 0)"
      ],
      "execution_count": null,
      "outputs": []
    },
    {
      "cell_type": "code",
      "metadata": {
        "id": "V995IIlJL7AL",
        "colab_type": "code",
        "colab": {}
      },
      "source": [
        "df_yemek = df_model[df_model.Sector == \"Yemek\"]\n"
      ],
      "execution_count": null,
      "outputs": []
    },
    {
      "cell_type": "code",
      "metadata": {
        "id": "j7Wf5M-CO9OO",
        "colab_type": "code",
        "colab": {
          "base_uri": "https://localhost:8080/",
          "height": 572
        },
        "outputId": "2cd6aad5-b8a2-4194-8123-b3ed4364a65b"
      },
      "source": [
        "df_yemek\n"
      ],
      "execution_count": null,
      "outputs": [
        {
          "output_type": "execute_result",
          "data": {
            "text/html": [
              "<div>\n",
              "<style scoped>\n",
              "    .dataframe tbody tr th:only-of-type {\n",
              "        vertical-align: middle;\n",
              "    }\n",
              "\n",
              "    .dataframe tbody tr th {\n",
              "        vertical-align: top;\n",
              "    }\n",
              "\n",
              "    .dataframe thead th {\n",
              "        text-align: right;\n",
              "    }\n",
              "</style>\n",
              "<table border=\"1\" class=\"dataframe\">\n",
              "  <thead>\n",
              "    <tr style=\"text-align: right;\">\n",
              "      <th></th>\n",
              "      <th>Comment</th>\n",
              "      <th>Brand</th>\n",
              "      <th>Sector</th>\n",
              "      <th>Zamaninda Teslimat</th>\n",
              "      <th>Ödeme</th>\n",
              "      <th>Müşteri Hizmetleri</th>\n",
              "      <th>Kampanya</th>\n",
              "      <th>Doğru Sipariş</th>\n",
              "      <th>İade</th>\n",
              "      <th>Ürün Memnuniyeti</th>\n",
              "    </tr>\n",
              "  </thead>\n",
              "  <tbody>\n",
              "    <tr>\n",
              "      <th>60</th>\n",
              "      <td>Saat 01:04 te verdiğim sipariş için tam 32 dak...</td>\n",
              "      <td>Domino's Pizza</td>\n",
              "      <td>Yemek</td>\n",
              "      <td>0</td>\n",
              "      <td>0</td>\n",
              "      <td>0</td>\n",
              "      <td>0</td>\n",
              "      <td>0</td>\n",
              "      <td>0</td>\n",
              "      <td>0</td>\n",
              "    </tr>\n",
              "    <tr>\n",
              "      <th>64</th>\n",
              "      <td>Ben Samsun'dayken Yemek Sepeti'nden 3 tane dür...</td>\n",
              "      <td>Yemek Sepeti</td>\n",
              "      <td>Yemek</td>\n",
              "      <td>0</td>\n",
              "      <td>0</td>\n",
              "      <td>0</td>\n",
              "      <td>0</td>\n",
              "      <td>0</td>\n",
              "      <td>0</td>\n",
              "      <td>0</td>\n",
              "    </tr>\n",
              "    <tr>\n",
              "      <th>67</th>\n",
              "      <td>Bu akşam saat 22.15 sularında Ankara Eryaman ş...</td>\n",
              "      <td>Yemek Sepeti</td>\n",
              "      <td>Yemek</td>\n",
              "      <td>0</td>\n",
              "      <td>0</td>\n",
              "      <td>0</td>\n",
              "      <td>0</td>\n",
              "      <td>0</td>\n",
              "      <td>0</td>\n",
              "      <td>0</td>\n",
              "    </tr>\n",
              "    <tr>\n",
              "      <th>75</th>\n",
              "      <td>Popeyes'den sipariş verdim. 40 dakika sonra Ye...</td>\n",
              "      <td>Yemek Sepeti</td>\n",
              "      <td>Yemek</td>\n",
              "      <td>0</td>\n",
              "      <td>0</td>\n",
              "      <td>0</td>\n",
              "      <td>0</td>\n",
              "      <td>0</td>\n",
              "      <td>0</td>\n",
              "      <td>0</td>\n",
              "    </tr>\n",
              "    <tr>\n",
              "      <th>76</th>\n",
              "      <td>Saat 22:13 de Domino's Pizza Gebze mutlukent ş...</td>\n",
              "      <td>Domino's Pizza</td>\n",
              "      <td>Yemek</td>\n",
              "      <td>0</td>\n",
              "      <td>0</td>\n",
              "      <td>0</td>\n",
              "      <td>0</td>\n",
              "      <td>0</td>\n",
              "      <td>0</td>\n",
              "      <td>0</td>\n",
              "    </tr>\n",
              "    <tr>\n",
              "      <th>...</th>\n",
              "      <td>...</td>\n",
              "      <td>...</td>\n",
              "      <td>...</td>\n",
              "      <td>...</td>\n",
              "      <td>...</td>\n",
              "      <td>...</td>\n",
              "      <td>...</td>\n",
              "      <td>...</td>\n",
              "      <td>...</td>\n",
              "      <td>...</td>\n",
              "    </tr>\n",
              "    <tr>\n",
              "      <th>98244</th>\n",
              "      <td>Aynı ilçede olmama rağmen şube ile bayramda he...</td>\n",
              "      <td>Domino's Pizza</td>\n",
              "      <td>Yemek</td>\n",
              "      <td>0</td>\n",
              "      <td>0</td>\n",
              "      <td>0</td>\n",
              "      <td>0</td>\n",
              "      <td>0</td>\n",
              "      <td>0</td>\n",
              "      <td>0</td>\n",
              "    </tr>\n",
              "    <tr>\n",
              "      <th>98255</th>\n",
              "      <td>Sepet tutarı integer &gt; =19.99 yerine &gt;19.99 ku...</td>\n",
              "      <td>Domino's Pizza</td>\n",
              "      <td>Yemek</td>\n",
              "      <td>0</td>\n",
              "      <td>0</td>\n",
              "      <td>0</td>\n",
              "      <td>0</td>\n",
              "      <td>0</td>\n",
              "      <td>0</td>\n",
              "      <td>0</td>\n",
              "    </tr>\n",
              "    <tr>\n",
              "      <th>98262</th>\n",
              "      <td>Dün Domino's pizzayı aradık 1 saat sonra getir...</td>\n",
              "      <td>Domino's Pizza</td>\n",
              "      <td>Yemek</td>\n",
              "      <td>0</td>\n",
              "      <td>0</td>\n",
              "      <td>0</td>\n",
              "      <td>0</td>\n",
              "      <td>0</td>\n",
              "      <td>0</td>\n",
              "      <td>0</td>\n",
              "    </tr>\n",
              "    <tr>\n",
              "      <th>98309</th>\n",
              "      <td>17 Kasım 2019 tarihinde Dominos.com.tr üzerind...</td>\n",
              "      <td>Domino's Pizza</td>\n",
              "      <td>Yemek</td>\n",
              "      <td>0</td>\n",
              "      <td>0</td>\n",
              "      <td>0</td>\n",
              "      <td>0</td>\n",
              "      <td>0</td>\n",
              "      <td>0</td>\n",
              "      <td>0</td>\n",
              "    </tr>\n",
              "    <tr>\n",
              "      <th>98314</th>\n",
              "      <td>Yemek Sepeti üzerinde bir menüde ürünleri göre...</td>\n",
              "      <td>Yemek Sepeti</td>\n",
              "      <td>Yemek</td>\n",
              "      <td>0</td>\n",
              "      <td>0</td>\n",
              "      <td>0</td>\n",
              "      <td>0</td>\n",
              "      <td>0</td>\n",
              "      <td>0</td>\n",
              "      <td>0</td>\n",
              "    </tr>\n",
              "  </tbody>\n",
              "</table>\n",
              "<p>2477 rows × 10 columns</p>\n",
              "</div>"
            ],
            "text/plain": [
              "                                                 Comment  ... Ürün Memnuniyeti\n",
              "60     Saat 01:04 te verdiğim sipariş için tam 32 dak...  ...                0\n",
              "64     Ben Samsun'dayken Yemek Sepeti'nden 3 tane dür...  ...                0\n",
              "67     Bu akşam saat 22.15 sularında Ankara Eryaman ş...  ...                0\n",
              "75     Popeyes'den sipariş verdim. 40 dakika sonra Ye...  ...                0\n",
              "76     Saat 22:13 de Domino's Pizza Gebze mutlukent ş...  ...                0\n",
              "...                                                  ...  ...              ...\n",
              "98244  Aynı ilçede olmama rağmen şube ile bayramda he...  ...                0\n",
              "98255  Sepet tutarı integer > =19.99 yerine >19.99 ku...  ...                0\n",
              "98262  Dün Domino's pizzayı aradık 1 saat sonra getir...  ...                0\n",
              "98309  17 Kasım 2019 tarihinde Dominos.com.tr üzerind...  ...                0\n",
              "98314  Yemek Sepeti üzerinde bir menüde ürünleri göre...  ...                0\n",
              "\n",
              "[2477 rows x 10 columns]"
            ]
          },
          "metadata": {
            "tags": []
          },
          "execution_count": 136
        }
      ]
    },
    {
      "cell_type": "markdown",
      "metadata": {
        "id": "K1Qdh1DZPeKM",
        "colab_type": "text"
      },
      "source": [
        "Yemek"
      ]
    },
    {
      "cell_type": "code",
      "metadata": {
        "id": "eASSlGivO9R-",
        "colab_type": "code",
        "colab": {}
      },
      "source": [
        "def check_value(sentence,anahtar):\n",
        "    for word in anahtar:\n",
        "        if word in sentence:\n",
        "            return 1\n",
        "    return 0"
      ],
      "execution_count": null,
      "outputs": []
    },
    {
      "cell_type": "code",
      "metadata": {
        "id": "SnpuRrk9O9Uk",
        "colab_type": "code",
        "colab": {}
      },
      "source": [
        "#\"Zamaninda Teslimat\",\"Ödeme\",\"Müşteri Hizmetleri\",\"Kampanya\",\"Doğru Sipariş\",\"İade\",\"Ürün Memnuniyeti\"\n"
      ],
      "execution_count": null,
      "outputs": []
    },
    {
      "cell_type": "code",
      "metadata": {
        "id": "qBKrcDLAO9YO",
        "colab_type": "code",
        "colab": {
          "base_uri": "https://localhost:8080/",
          "height": 119
        },
        "outputId": "831b4d18-ccfc-4dea-8b01-31496770ad3a"
      },
      "source": [
        "anahtar = [\" saat\",\" dakika\",\"gün geçti\"] \n",
        "df_yemek[\"Zamaninda Teslimat\"] = df_yemek[\"Comment\"].map(lambda sentence: check_value(sentence,anahtar) )"
      ],
      "execution_count": null,
      "outputs": [
        {
          "output_type": "stream",
          "text": [
            "/usr/local/lib/python3.6/dist-packages/ipykernel_launcher.py:2: SettingWithCopyWarning: \n",
            "A value is trying to be set on a copy of a slice from a DataFrame.\n",
            "Try using .loc[row_indexer,col_indexer] = value instead\n",
            "\n",
            "See the caveats in the documentation: https://pandas.pydata.org/pandas-docs/stable/user_guide/indexing.html#returning-a-view-versus-a-copy\n",
            "  \n"
          ],
          "name": "stderr"
        }
      ]
    },
    {
      "cell_type": "code",
      "metadata": {
        "id": "oQz1BvjYPq4X",
        "colab_type": "code",
        "colab": {
          "base_uri": "https://localhost:8080/",
          "height": 119
        },
        "outputId": "19decd53-6052-4f2f-c218-2f1d8b7d8f63"
      },
      "source": [
        "anahtar = [\" para\",\" tl \",\" ödeme\",\" kredi\"] \n",
        "df_yemek[\"Ödeme\"] = df_yemek[\"Comment\"].map(lambda sentence: check_value(sentence,anahtar) )"
      ],
      "execution_count": null,
      "outputs": [
        {
          "output_type": "stream",
          "text": [
            "/usr/local/lib/python3.6/dist-packages/ipykernel_launcher.py:2: SettingWithCopyWarning: \n",
            "A value is trying to be set on a copy of a slice from a DataFrame.\n",
            "Try using .loc[row_indexer,col_indexer] = value instead\n",
            "\n",
            "See the caveats in the documentation: https://pandas.pydata.org/pandas-docs/stable/user_guide/indexing.html#returning-a-view-versus-a-copy\n",
            "  \n"
          ],
          "name": "stderr"
        }
      ]
    },
    {
      "cell_type": "code",
      "metadata": {
        "id": "XFMhz-VjPq7c",
        "colab_type": "code",
        "colab": {
          "base_uri": "https://localhost:8080/",
          "height": 119
        },
        "outputId": "575cbd59-a8d5-4b7e-936e-1d7429a66f4d"
      },
      "source": [
        "anahtar = [\"kampanya\",\"kupon\"] \n",
        "df_yemek[\"Kampanya\"] = df_yemek[\"Comment\"].map(lambda sentence: check_value(sentence,anahtar) )"
      ],
      "execution_count": null,
      "outputs": [
        {
          "output_type": "stream",
          "text": [
            "/usr/local/lib/python3.6/dist-packages/ipykernel_launcher.py:2: SettingWithCopyWarning: \n",
            "A value is trying to be set on a copy of a slice from a DataFrame.\n",
            "Try using .loc[row_indexer,col_indexer] = value instead\n",
            "\n",
            "See the caveats in the documentation: https://pandas.pydata.org/pandas-docs/stable/user_guide/indexing.html#returning-a-view-versus-a-copy\n",
            "  \n"
          ],
          "name": "stderr"
        }
      ]
    },
    {
      "cell_type": "code",
      "metadata": {
        "id": "GpevK8cJPq-T",
        "colab_type": "code",
        "colab": {
          "base_uri": "https://localhost:8080/",
          "height": 119
        },
        "outputId": "ad98c8f4-ceec-41fc-e6db-8ac7d82d5342"
      },
      "source": [
        "anahtar = [\"yanlış\"] \n",
        "df_yemek[\"Doğru Sipariş\"] = df_yemek[\"Comment\"].map(lambda sentence: check_value(sentence,anahtar) )"
      ],
      "execution_count": null,
      "outputs": [
        {
          "output_type": "stream",
          "text": [
            "/usr/local/lib/python3.6/dist-packages/ipykernel_launcher.py:2: SettingWithCopyWarning: \n",
            "A value is trying to be set on a copy of a slice from a DataFrame.\n",
            "Try using .loc[row_indexer,col_indexer] = value instead\n",
            "\n",
            "See the caveats in the documentation: https://pandas.pydata.org/pandas-docs/stable/user_guide/indexing.html#returning-a-view-versus-a-copy\n",
            "  \n"
          ],
          "name": "stderr"
        }
      ]
    },
    {
      "cell_type": "code",
      "metadata": {
        "id": "Wo7jZSz_PrD2",
        "colab_type": "code",
        "colab": {
          "base_uri": "https://localhost:8080/",
          "height": 119
        },
        "outputId": "8d88982a-4418-48ad-c088-d41d32b6922d"
      },
      "source": [
        "\n",
        "anahtar = [\"para\",\"iade\",\"saat\"] \n",
        "df_yemek[\"İade\"] = df_yemek[\"Comment\"].map(lambda sentence: check_value(sentence,anahtar) )"
      ],
      "execution_count": null,
      "outputs": [
        {
          "output_type": "stream",
          "text": [
            "/usr/local/lib/python3.6/dist-packages/ipykernel_launcher.py:3: SettingWithCopyWarning: \n",
            "A value is trying to be set on a copy of a slice from a DataFrame.\n",
            "Try using .loc[row_indexer,col_indexer] = value instead\n",
            "\n",
            "See the caveats in the documentation: https://pandas.pydata.org/pandas-docs/stable/user_guide/indexing.html#returning-a-view-versus-a-copy\n",
            "  This is separate from the ipykernel package so we can avoid doing imports until\n"
          ],
          "name": "stderr"
        }
      ]
    },
    {
      "cell_type": "code",
      "metadata": {
        "id": "X0eQ458TPrG8",
        "colab_type": "code",
        "colab": {
          "base_uri": "https://localhost:8080/",
          "height": 119
        },
        "outputId": "ddcd75a3-39ad-44ed-c666-dc559ae33c30"
      },
      "source": [
        "\n",
        "anahtar = [\"sos\",\"sucuk\",\"tavuk\",\" bol \",\"peynir\",\"domates\",\"sosis\",\"eksik\",\"malzeme\",\"patates\",\"hamur\"] \n",
        "df_yemek[\"Ürün Memnuniyeti\"] = df_yemek[\"Comment\"].map(lambda sentence: check_value(sentence,anahtar) )"
      ],
      "execution_count": null,
      "outputs": [
        {
          "output_type": "stream",
          "text": [
            "/usr/local/lib/python3.6/dist-packages/ipykernel_launcher.py:3: SettingWithCopyWarning: \n",
            "A value is trying to be set on a copy of a slice from a DataFrame.\n",
            "Try using .loc[row_indexer,col_indexer] = value instead\n",
            "\n",
            "See the caveats in the documentation: https://pandas.pydata.org/pandas-docs/stable/user_guide/indexing.html#returning-a-view-versus-a-copy\n",
            "  This is separate from the ipykernel package so we can avoid doing imports until\n"
          ],
          "name": "stderr"
        }
      ]
    },
    {
      "cell_type": "code",
      "metadata": {
        "id": "IxKl2ArYPrMT",
        "colab_type": "code",
        "colab": {
          "base_uri": "https://localhost:8080/",
          "height": 119
        },
        "outputId": "e222202e-522f-4122-baae-ea89a672c175"
      },
      "source": [
        "anahtar = [\"müşteri hizmetleri\"] \n",
        "df_yemek[\"Müşteri Hizmetleri\"] = df_yemek[\"Comment\"].map(lambda sentence: check_value(sentence,anahtar) )"
      ],
      "execution_count": null,
      "outputs": [
        {
          "output_type": "stream",
          "text": [
            "/usr/local/lib/python3.6/dist-packages/ipykernel_launcher.py:2: SettingWithCopyWarning: \n",
            "A value is trying to be set on a copy of a slice from a DataFrame.\n",
            "Try using .loc[row_indexer,col_indexer] = value instead\n",
            "\n",
            "See the caveats in the documentation: https://pandas.pydata.org/pandas-docs/stable/user_guide/indexing.html#returning-a-view-versus-a-copy\n",
            "  \n"
          ],
          "name": "stderr"
        }
      ]
    },
    {
      "cell_type": "code",
      "metadata": {
        "id": "Ua7djSJrPrR_",
        "colab_type": "code",
        "colab": {
          "base_uri": "https://localhost:8080/",
          "height": 204
        },
        "outputId": "fa828598-b772-43af-cdb5-85c8547d11fa"
      },
      "source": [
        "df_yemek_comments_labels = df_yemek[[\"Zamaninda Teslimat\",\"Ödeme\",\"Müşteri Hizmetleri\",\"Kampanya\",\"Doğru Sipariş\",\"İade\",\"Ürün Memnuniyeti\"]]\n",
        "df_yemek_comments_labels.head()"
      ],
      "execution_count": null,
      "outputs": [
        {
          "output_type": "execute_result",
          "data": {
            "text/html": [
              "<div>\n",
              "<style scoped>\n",
              "    .dataframe tbody tr th:only-of-type {\n",
              "        vertical-align: middle;\n",
              "    }\n",
              "\n",
              "    .dataframe tbody tr th {\n",
              "        vertical-align: top;\n",
              "    }\n",
              "\n",
              "    .dataframe thead th {\n",
              "        text-align: right;\n",
              "    }\n",
              "</style>\n",
              "<table border=\"1\" class=\"dataframe\">\n",
              "  <thead>\n",
              "    <tr style=\"text-align: right;\">\n",
              "      <th></th>\n",
              "      <th>Zamaninda Teslimat</th>\n",
              "      <th>Ödeme</th>\n",
              "      <th>Müşteri Hizmetleri</th>\n",
              "      <th>Kampanya</th>\n",
              "      <th>Doğru Sipariş</th>\n",
              "      <th>İade</th>\n",
              "      <th>Ürün Memnuniyeti</th>\n",
              "    </tr>\n",
              "  </thead>\n",
              "  <tbody>\n",
              "    <tr>\n",
              "      <th>60</th>\n",
              "      <td>1</td>\n",
              "      <td>0</td>\n",
              "      <td>0</td>\n",
              "      <td>0</td>\n",
              "      <td>0</td>\n",
              "      <td>0</td>\n",
              "      <td>0</td>\n",
              "    </tr>\n",
              "    <tr>\n",
              "      <th>64</th>\n",
              "      <td>0</td>\n",
              "      <td>0</td>\n",
              "      <td>0</td>\n",
              "      <td>0</td>\n",
              "      <td>0</td>\n",
              "      <td>0</td>\n",
              "      <td>1</td>\n",
              "    </tr>\n",
              "    <tr>\n",
              "      <th>67</th>\n",
              "      <td>1</td>\n",
              "      <td>0</td>\n",
              "      <td>0</td>\n",
              "      <td>0</td>\n",
              "      <td>0</td>\n",
              "      <td>1</td>\n",
              "      <td>0</td>\n",
              "    </tr>\n",
              "    <tr>\n",
              "      <th>75</th>\n",
              "      <td>1</td>\n",
              "      <td>0</td>\n",
              "      <td>0</td>\n",
              "      <td>0</td>\n",
              "      <td>0</td>\n",
              "      <td>0</td>\n",
              "      <td>0</td>\n",
              "    </tr>\n",
              "    <tr>\n",
              "      <th>76</th>\n",
              "      <td>1</td>\n",
              "      <td>0</td>\n",
              "      <td>0</td>\n",
              "      <td>1</td>\n",
              "      <td>0</td>\n",
              "      <td>1</td>\n",
              "      <td>0</td>\n",
              "    </tr>\n",
              "  </tbody>\n",
              "</table>\n",
              "</div>"
            ],
            "text/plain": [
              "    Zamaninda Teslimat  Ödeme  ...  İade  Ürün Memnuniyeti\n",
              "60                   1      0  ...     0                 0\n",
              "64                   0      0  ...     0                 1\n",
              "67                   1      0  ...     1                 0\n",
              "75                   1      0  ...     0                 0\n",
              "76                   1      0  ...     1                 0\n",
              "\n",
              "[5 rows x 7 columns]"
            ]
          },
          "metadata": {
            "tags": []
          },
          "execution_count": 146
        }
      ]
    },
    {
      "cell_type": "code",
      "metadata": {
        "id": "dZbrOIh6PrX3",
        "colab_type": "code",
        "colab": {
          "base_uri": "https://localhost:8080/",
          "height": 593
        },
        "outputId": "21d80338-77a8-48f0-b629-bea35f172936"
      },
      "source": [
        "import matplotlib.pyplot as plt\n",
        "fig_size = plt.rcParams[\"figure.figsize\"]\n",
        "fig_size[0] = 10\n",
        "fig_size[1] = 8\n",
        "plt.rcParams[\"figure.figsize\"] = fig_size\n",
        "\n",
        "df_yemek_comments_labels.sum(axis=0).plot.bar()"
      ],
      "execution_count": null,
      "outputs": [
        {
          "output_type": "execute_result",
          "data": {
            "text/plain": [
              "<matplotlib.axes._subplots.AxesSubplot at 0x7f662423d828>"
            ]
          },
          "metadata": {
            "tags": []
          },
          "execution_count": 147
        },
        {
          "output_type": "display_data",
          "data": {
            "image/png": "[encoded data removed]",
            "text/plain": [
              "<Figure size 720x576 with 1 Axes>"
            ]
          },
          "metadata": {
            "tags": [],
            "needs_background": "light"
          }
        }
      ]
    },
    {
      "cell_type": "markdown",
      "metadata": {
        "id": "Qf2yUlmjThRl",
        "colab_type": "text"
      },
      "source": [
        "Multi-lable Text Classification Model with Single Output Layer¶\n"
      ]
    },
    {
      "cell_type": "code",
      "metadata": {
        "id": "oK2VAPetPrVe",
        "colab_type": "code",
        "colab": {
          "base_uri": "https://localhost:8080/",
          "height": 71
        },
        "outputId": "a9852fa8-26b6-4836-e082-f7da9566d482"
      },
      "source": [
        "\n",
        "from numpy import loadtxt,array\n",
        "from keras.models import Sequential\n",
        "import seaborn as sn\n",
        "from matplotlib import pyplot\n",
        "from keras.preprocessing.text import one_hot\n",
        "from keras.preprocessing.sequence import pad_sequences\n",
        "from keras.models import Sequential\n",
        "from keras.layers.core import Activation, Dropout, Dense\n",
        "from keras.layers import Flatten, LSTM\n",
        "from keras.layers import GlobalMaxPooling1D\n",
        "from keras.models import Model\n",
        "from keras.layers.embeddings import Embedding\n",
        "from sklearn.model_selection import train_test_split\n",
        "from keras.preprocessing.text import Tokenizer\n",
        "from keras.layers import Input\n",
        "from keras.layers.merge import Concatenate"
      ],
      "execution_count": null,
      "outputs": [
        {
          "output_type": "stream",
          "text": [
            "/usr/local/lib/python3.6/dist-packages/statsmodels/tools/_testing.py:19: FutureWarning: pandas.util.testing is deprecated. Use the functions in the public API at pandas.testing instead.\n",
            "  import pandas.util.testing as tm\n"
          ],
          "name": "stderr"
        }
      ]
    },
    {
      "cell_type": "code",
      "metadata": {
        "id": "L8nt3DxqPrPM",
        "colab_type": "code",
        "colab": {}
      },
      "source": [
        "\n",
        "X = []\n",
        "sentences = list(df_yemek[\"Comment\"])\n",
        "for sen in sentences:\n",
        "    X.append(sen)\n",
        "\n",
        "y = df_yemek_comments_labels.values"
      ],
      "execution_count": null,
      "outputs": []
    },
    {
      "cell_type": "code",
      "metadata": {
        "id": "K3eQAxFjPrJ6",
        "colab_type": "code",
        "colab": {
          "base_uri": "https://localhost:8080/",
          "height": 34
        },
        "outputId": "e1923183-9ca9-4d8a-e1ad-6f64b443a08d"
      },
      "source": [
        "len(y)\n"
      ],
      "execution_count": null,
      "outputs": [
        {
          "output_type": "execute_result",
          "data": {
            "text/plain": [
              "2477"
            ]
          },
          "metadata": {
            "tags": []
          },
          "execution_count": 150
        }
      ]
    },
    {
      "cell_type": "code",
      "metadata": {
        "id": "SWUvXZKqPrBe",
        "colab_type": "code",
        "colab": {}
      },
      "source": [
        "X_train, X_test, y_train, y_test = train_test_split(X, y, test_size=0.20, random_state=42)\n"
      ],
      "execution_count": null,
      "outputs": []
    },
    {
      "cell_type": "code",
      "metadata": {
        "id": "jBgbx7VVT9uF",
        "colab_type": "code",
        "colab": {}
      },
      "source": [
        "tokenizer = Tokenizer(num_words=5000)\n",
        "tokenizer.fit_on_texts(X_train)\n",
        "\n",
        "X_train = tokenizer.texts_to_sequences(X_train)\n",
        "X_test = tokenizer.texts_to_sequences(X_test)\n",
        "\n",
        "vocab_size = len(tokenizer.word_index) + 1\n",
        "\n",
        "maxlen = 200\n",
        "\n",
        "X_train = pad_sequences(X_train, padding='post', maxlen=maxlen)\n",
        "X_test = pad_sequences(X_test, padding='post', maxlen=maxlen)"
      ],
      "execution_count": null,
      "outputs": []
    },
    {
      "cell_type": "code",
      "metadata": {
        "id": "3tvjoXG9T9zb",
        "colab_type": "code",
        "colab": {}
      },
      "source": [
        "deep_inputs = Input(shape=(maxlen,))\n",
        "embedding_layer = Embedding(vocab_size, 100, trainable=False)(deep_inputs)\n",
        "LSTM_Layer_1 = LSTM(128)(embedding_layer)\n",
        "dense_layer_1 = Dense(7, activation='sigmoid')(LSTM_Layer_1)\n",
        "model = Model(inputs=deep_inputs, outputs=dense_layer_1)\n",
        "\n",
        "model.compile(loss='binary_crossentropy', optimizer='adam', metrics=['acc'])"
      ],
      "execution_count": null,
      "outputs": []
    },
    {
      "cell_type": "code",
      "metadata": {
        "id": "-pVCKnsTT93E",
        "colab_type": "code",
        "colab": {
          "base_uri": "https://localhost:8080/",
          "height": 306
        },
        "outputId": "55c5e1b9-1c11-459a-d035-8ceb1cb175d3"
      },
      "source": [
        "print(model.summary())\n"
      ],
      "execution_count": null,
      "outputs": [
        {
          "output_type": "stream",
          "text": [
            "Model: \"functional_1\"\n",
            "_________________________________________________________________\n",
            "Layer (type)                 Output Shape              Param #   \n",
            "=================================================================\n",
            "input_1 (InputLayer)         [(None, 200)]             0         \n",
            "_________________________________________________________________\n",
            "embedding (Embedding)        (None, 200, 100)          2006100   \n",
            "_________________________________________________________________\n",
            "lstm (LSTM)                  (None, 128)               117248    \n",
            "_________________________________________________________________\n",
            "dense (Dense)                (None, 7)                 903       \n",
            "=================================================================\n",
            "Total params: 2,124,251\n",
            "Trainable params: 118,151\n",
            "Non-trainable params: 2,006,100\n",
            "_________________________________________________________________\n",
            "None\n"
          ],
          "name": "stdout"
        }
      ]
    },
    {
      "cell_type": "code",
      "metadata": {
        "id": "vPS1x5qZT9xE",
        "colab_type": "code",
        "colab": {
          "base_uri": "https://localhost:8080/",
          "height": 422
        },
        "outputId": "6634e0d0-64cd-4fee-9ce4-f2eb36668f0d"
      },
      "source": [
        "from keras.utils import plot_model\n",
        "plot_model(model, to_file='model_plot4a.png', show_shapes=True, show_layer_names=True)"
      ],
      "execution_count": null,
      "outputs": [
        {
          "output_type": "execute_result",
          "data": {
            "image/png": "[encoded data removed]",
            "text/plain": [
              "<IPython.core.display.Image object>"
            ]
          },
          "metadata": {
            "tags": []
          },
          "execution_count": 155
        }
      ]
    },
    {
      "cell_type": "code",
      "metadata": {
        "id": "CAbNw2IKXNbZ",
        "colab_type": "code",
        "colab": {}
      },
      "source": [
        ""
      ],
      "execution_count": null,
      "outputs": []
    },
    {
      "cell_type": "code",
      "metadata": {
        "id": "fRxN1O8QXNoq",
        "colab_type": "code",
        "colab": {
          "base_uri": "https://localhost:8080/",
          "height": 425
        },
        "outputId": "58f9d8ff-bbd2-4375-c95f-dc1180e3cef0"
      },
      "source": [
        "history = model.fit(X_train, y_train, batch_size=128, epochs=12, verbose=1, validation_split=0.2)\n"
      ],
      "execution_count": null,
      "outputs": [
        {
          "output_type": "stream",
          "text": [
            "Epoch 1/12\n",
            "13/13 [==============================] - 7s 568ms/step - loss: 0.4659 - acc: 0.0442 - val_loss: 0.4529 - val_acc: 0.0605\n",
            "Epoch 2/12\n",
            "13/13 [==============================] - 7s 570ms/step - loss: 0.4662 - acc: 0.0442 - val_loss: 0.4510 - val_acc: 0.0605\n",
            "Epoch 3/12\n",
            "13/13 [==============================] - 7s 573ms/step - loss: 0.4657 - acc: 0.0442 - val_loss: 0.4520 - val_acc: 0.0605\n",
            "Epoch 4/12\n",
            "13/13 [==============================] - 7s 570ms/step - loss: 0.4652 - acc: 0.0442 - val_loss: 0.4527 - val_acc: 0.0605\n",
            "Epoch 5/12\n",
            "13/13 [==============================] - 8s 579ms/step - loss: 0.4661 - acc: 0.0442 - val_loss: 0.4526 - val_acc: 0.0605\n",
            "Epoch 6/12\n",
            "13/13 [==============================] - 8s 608ms/step - loss: 0.4658 - acc: 0.0442 - val_loss: 0.4517 - val_acc: 0.0605\n",
            "Epoch 7/12\n",
            "13/13 [==============================] - 8s 590ms/step - loss: 0.4657 - acc: 0.0442 - val_loss: 0.4516 - val_acc: 0.0605\n",
            "Epoch 8/12\n",
            "13/13 [==============================] - 7s 575ms/step - loss: 0.4654 - acc: 0.0442 - val_loss: 0.4536 - val_acc: 0.0605\n",
            "Epoch 9/12\n",
            "13/13 [==============================] - 7s 575ms/step - loss: 0.4653 - acc: 0.0442 - val_loss: 0.4523 - val_acc: 0.0605\n",
            "Epoch 10/12\n",
            "13/13 [==============================] - 7s 571ms/step - loss: 0.4655 - acc: 0.0442 - val_loss: 0.4521 - val_acc: 0.0605\n",
            "Epoch 11/12\n",
            "13/13 [==============================] - 7s 574ms/step - loss: 0.4657 - acc: 0.0442 - val_loss: 0.4524 - val_acc: 0.0605\n",
            "Epoch 12/12\n",
            "13/13 [==============================] - 7s 570ms/step - loss: 0.4655 - acc: 0.0442 - val_loss: 0.4555 - val_acc: 0.0605\n"
          ],
          "name": "stdout"
        }
      ]
    },
    {
      "cell_type": "code",
      "metadata": {
        "id": "dI9dIEAzXRax",
        "colab_type": "code",
        "colab": {
          "base_uri": "https://localhost:8080/",
          "height": 68
        },
        "outputId": "725b7b58-d78b-46b0-db97-0ab7adc09952"
      },
      "source": [
        "score = model.evaluate(X_test, y_test, verbose=1)\n",
        "\n",
        "print(\"Test Score:\", score[0])\n",
        "print(\"Test Accuracy:\", score[1])"
      ],
      "execution_count": null,
      "outputs": [
        {
          "output_type": "stream",
          "text": [
            "16/16 [==============================] - 1s 56ms/step - loss: 0.4776 - acc: 0.0524\n",
            "Test Score: 0.4776325523853302\n",
            "Test Accuracy: 0.052419353276491165\n"
          ],
          "name": "stdout"
        }
      ]
    },
    {
      "cell_type": "code",
      "metadata": {
        "id": "peUfenAuXRgD",
        "colab_type": "code",
        "colab": {
          "base_uri": "https://localhost:8080/",
          "height": 1000
        },
        "outputId": "eb248934-183e-4f9c-bb90-9879367e102a"
      },
      "source": [
        "import matplotlib.pyplot as plt\n",
        "\n",
        "plt.plot(history.history['acc'])\n",
        "plt.plot(history.history['val_acc'])\n",
        "\n",
        "plt.title('model accuracy')\n",
        "plt.ylabel('accuracy')\n",
        "plt.xlabel('epoch')\n",
        "plt.legend(['train','test'], loc='upper left')\n",
        "plt.show()\n",
        "\n",
        "plt.plot(history.history['loss'])\n",
        "plt.plot(history.history['val_loss'])\n",
        "\n",
        "plt.title('model loss')\n",
        "plt.ylabel('loss')\n",
        "plt.xlabel('epoch')\n",
        "plt.legend(['train','test'], loc='upper left')\n",
        "plt.show()"
      ],
      "execution_count": null,
      "outputs": [
        {
          "output_type": "display_data",
          "data": {
            "image/png": "[encoded data removed]",
            "text/plain": [
              "<Figure size 720x576 with 1 Axes>"
            ]
          },
          "metadata": {
            "tags": [],
            "needs_background": "light"
          }
        },
        {
          "output_type": "display_data",
          "data": {
            "image/png": "[encoded data removed]",
            "text/plain": [
              "<Figure size 720x576 with 1 Axes>"
            ]
          },
          "metadata": {
            "tags": [],
            "needs_background": "light"
          }
        }
      ]
    },
    {
      "cell_type": "code",
      "metadata": {
        "id": "mWoBzpGDXRlS",
        "colab_type": "code",
        "colab": {}
      },
      "source": [
        ""
      ],
      "execution_count": null,
      "outputs": []
    }
  ]
}